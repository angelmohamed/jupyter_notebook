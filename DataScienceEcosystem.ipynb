{
 "cells": [
  {
   "cell_type": "markdown",
   "id": "d673b52d-6772-46c1-af60-54d3d0baed30",
   "metadata": {},
   "source": [
    "# Data Science Tools and Ecosystem"
   ]
  },
  {
   "cell_type": "markdown",
   "id": "5b196332-a50a-4d11-80de-4e356e7c3312",
   "metadata": {},
   "source": [
    "### In this notebook, Data Science Tools and Ecosystem are summarized."
   ]
  },
  {
   "cell_type": "markdown",
   "id": "f5b6b294-9583-4c83-a51c-f13d82c9982d",
   "metadata": {},
   "source": [
    "#### Some of the popular languages that Data Scientists use are:\n",
    "1. R \n",
    "2. Python\n",
    "3. SQL"
   ]
  },
  {
   "cell_type": "markdown",
   "id": "f339770b-4d64-403f-831c-2e92fa0d726c",
   "metadata": {},
   "source": [
    "##### Some of the commonly used libraries used by Data Scientists include:\n",
    "1. TensorFlow\n",
    "2. Seaborn\n",
    "3. Matplotlib"
   ]
  },
  {
   "cell_type": "markdown",
   "id": "89815a79-4a6c-4042-bf9e-e0a1e0be1a81",
   "metadata": {},
   "source": [
    "|Data Science Tools|\n",
    "|-----|\n",
    "|JupyterLab|\n",
    "|Virtual Studio Code|\n",
    "|RStudio|"
   ]
  },
  {
   "cell_type": "markdown",
   "id": "56eebd30-bb70-4fce-b68a-5b20b8c0831e",
   "metadata": {},
   "source": [
    "### Below are a few examples of evaluating arithmetic expressions in Python"
   ]
  },
  {
   "cell_type": "code",
   "execution_count": 41,
   "id": "2a2a62b4-83b8-474b-82b9-dea3c483bce0",
   "metadata": {},
   "outputs": [
    {
     "data": {
      "text/plain": [
       "17"
      ]
     },
     "execution_count": 41,
     "metadata": {},
     "output_type": "execute_result"
    }
   ],
   "source": [
    "(3*4)+5"
   ]
  },
  {
   "cell_type": "code",
   "execution_count": 45,
   "id": "d85b96ba-cedb-4644-babb-b7450681df5e",
   "metadata": {},
   "outputs": [
    {
     "name": "stdout",
     "output_type": "stream",
     "text": [
      "3.3333333333333335\n"
     ]
    }
   ],
   "source": [
    "# This will convert 200 minutes to hours by diving by 60\n",
    "hours = 200/60\n",
    "print(hours)"
   ]
  },
  {
   "cell_type": "markdown",
   "id": "7d6db498-b67c-4621-a76c-c235b4405d97",
   "metadata": {},
   "source": [
    "**Objectives:**\n",
    "\n",
    "- List popular languages for Data Science\n",
    "- Understand the basics of Python programming\n",
    "- Explore libraries commonly used in Data Science such as Pandas, NumPy, and Matplotlib\n",
    "- Learn how to clean and preprocess data\n",
    "- Develop basic machine learning models"
   ]
  },
  {
   "cell_type": "markdown",
   "id": "71f28359-5b00-4e9c-820c-5e89968c6e6f",
   "metadata": {},
   "source": [
    "## Author\n",
    "\n",
    "Mohammed Mohamed"
   ]
  },
  {
   "cell_type": "code",
   "execution_count": null,
   "id": "ad9ade07-74b1-40f9-af0d-87ee3e426744",
   "metadata": {},
   "outputs": [],
   "source": []
  }
 ],
 "metadata": {
  "kernelspec": {
   "display_name": "Python 3 (ipykernel)",
   "language": "python",
   "name": "python3"
  },
  "language_info": {
   "codemirror_mode": {
    "name": "ipython",
    "version": 3
   },
   "file_extension": ".py",
   "mimetype": "text/x-python",
   "name": "python",
   "nbconvert_exporter": "python",
   "pygments_lexer": "ipython3",
   "version": "3.11.7"
  }
 },
 "nbformat": 4,
 "nbformat_minor": 5
}
